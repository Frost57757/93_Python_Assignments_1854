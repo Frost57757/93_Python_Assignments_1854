{
 "cells": [
  {
   "cell_type": "markdown",
   "metadata": {},
   "source": [
    "    JLUFE                                                     Spring 2021 (Feb-July) \n",
    "\n",
    "                             Final Assignment Report        \n",
    "                                 \n",
    "                          \n",
    "                     JILIN UNIVERSITY OF FINANCE AND ECONOMICS  \n",
    "\n",
    "      Department of College of Managment Science and Information Engineering\n",
    "           \n",
    "                    Bachelor of information management and information systems\n",
    "                                  \n",
    "                                     (2021)\n",
    "                                          \n",
    "                              \n",
    "                                   \n",
    "                            Final Assignment: Part 01\n",
    "                                          \n",
    "                                   13/07/2021\n",
    "                                      \n",
    "                              MODULE: Data Mining \n",
    "                               \n",
    "                  Submitted by: Frost(王凯平) 0314021805403 (1854)\n",
    "                                 QQ: 577572168\n",
    "                               Github ID: Frost57757"
   ]
  },
  {
   "cell_type": "markdown",
   "metadata": {},
   "source": [
    "# Instructions:\n",
    "\n",
    "1. I have added tips and required learning resources for each question, which helps you to solve the exercise. \n",
    "\n",
    "2. Finish the assignment on your **OWN** (**Any student find copying/sharing from classmates or internet will get '0' points!!!**)\n",
    "\n",
    "3. Open the assignment from the **[Github Clasroom link](https://classroom.github.com/a/yFXO50A4)** This will create private repository of the assignment in your Github account.\n",
    "\n",
    "4. In your repository **`Clone`** -> **`Download ZIP`** in your computer.\n",
    "\n",
    "5. Change your: **Major**, **Name**, **Student number**, **Class number**, **QQ number** and **GitHub ID**\n",
    "\n",
    "6. Once you finish the Assignment **[convert your .ipynb file into PDF](https://github.com/milaan9/91_Python_Tips/blob/main/000_Convert_Jupyter_Notebook_to_PDF.ipynb)** (both .pynb and .pdf file will be required!)\n",
    "\n",
    "7. Create Folder name \"Solution\" and copy your 3 files:\n",
    "    1. Your Jupyter Notebook file (**.ipynb**).\n",
    "    2. Your PDF converted file (**.pdf**).\n",
    "    3. **.zip** file containing both .ipynb and .pdf files and name your .zip file as your student number and name. For example: **0318021907632 Milan(米兰).zip**\n",
    "    \n",
    "8. Finally, in your repository **`Add files`** -> **`upload files`** upload the \"**Solution**\" folder and **`Commit changes`**."
   ]
  },
  {
   "cell_type": "markdown",
   "metadata": {},
   "source": [
    "# Python Assignment 01"
   ]
  },
  {
   "cell_type": "markdown",
   "metadata": {},
   "source": [
    "### Question 1: \n",
    "\n",
    "Write a python program that generates a list containing only common elements between the two lists (without duplicates). Make sure your program works on two lists of different sizes.\n",
    "\n",
    "Expected Output:\n",
    "```\n",
    "List 1: [0, 2, 4, 6, 12, 13, 14, 18, 20, 24, 25, 26, 27]\n",
    "List 2: [0, 4, 7, 9, 10, 11, 13, 14, 17, 18, 20, 33, 39]\n",
    "List of common elements are:  [0, 4, 13, 14, 18, 20]\n",
    "```\n",
    "\n",
    "For extra points:\n",
    "1. Generate the two list randomly to test this\n",
    "2. Generate each list in one line of Python."
   ]
  },
  {
   "cell_type": "code",
   "execution_count": 8,
   "metadata": {},
   "outputs": [
    {
     "name": "stdout",
     "output_type": "stream",
     "text": [
      "List 1:[16 20  8 25 18  1  7  4 14 28 10  6  4]\n",
      "List 2:[ 3 19 20  3  5 18  4 19  7 24 28  7  1]\n",
      "List of common elements are:  20 18 1 7 7 4 28 4 "
     ]
    }
   ],
   "source": [
    "# Solution 1: \n",
    "import numpy as np\n",
    "list1 = np.random.randint(1,30,13)\n",
    "print(\"List 1:\"+str(list1)) \n",
    "list2 = np.random.randint(1,30,13)\n",
    "print(\"List 2:\"+str(list2)) \n",
    "# 找出两个列表的相同元素\n",
    "print(\"List of common elements are: \",end=\" \")\n",
    "for i in list1:\n",
    "    for j in list2:\n",
    "        if i == j:\n",
    "            print(i, end=' ') "
   ]
  },
  {
   "cell_type": "markdown",
   "metadata": {},
   "source": [
    "### Question 2: \n",
    "\n",
    "Write a python program to find the gravitational force acting between two objects.\n",
    "\n",
    "\\begin{equation*}\n",
    "F=G\\frac{{m_1}{m_2}}{{r^2}}\n",
    "\\end{equation*}\n",
    "\n",
    "Expected Output:\n",
    "```\n",
    "Enter the first mass (m1): 5000000\n",
    "Enter the second mass (m2): 900000\n",
    "Enter the distance between the centres of the masses (N): 30\n",
    "Hence, the Gravitational Force is:  0.33 N\n",
    "```"
   ]
  },
  {
   "cell_type": "code",
   "execution_count": 9,
   "metadata": {},
   "outputs": [
    {
     "data": {
      "text/plain": [
       "300000000000.0"
      ]
     },
     "execution_count": 9,
     "metadata": {},
     "output_type": "execute_result"
    }
   ],
   "source": [
    "# Solution 2: \n",
    "# 万有引力的G=6.67×10-11N•m²/kg²\n",
    "G=G=6.67*10**-11\n",
    "m1 = 5000000\n",
    "m2 = 900000\n",
    "r = 30\n",
    "F = m1*m2/r*2\n",
    "F"
   ]
  },
  {
   "cell_type": "markdown",
   "metadata": {},
   "source": [
    "### Question 3: \n",
    "\n",
    "Write a python program that generates a new list that contains only even elements from the randomly generated list.\n",
    "\n",
    "Expected Output:\n",
    "```\n",
    "Randomly generated list: [64, 63, 90, 13, 38, 27, 19, 51, 97, 32, 18, 75]\n",
    "List of even elements: [64, 90, 38, 32, 18]\n",
    "```"
   ]
  },
  {
   "cell_type": "code",
   "execution_count": 22,
   "metadata": {},
   "outputs": [
    {
     "name": "stdout",
     "output_type": "stream",
     "text": [
      "Randomly generated list: [68 56 26 12 52 75 28 86 15 94 17 69]\n"
     ]
    },
    {
     "data": {
      "text/plain": [
       "[68, 56, 26, 12, 52, 28, 86, 94]"
      ]
     },
     "execution_count": 22,
     "metadata": {},
     "output_type": "execute_result"
    }
   ],
   "source": [
    "# Solution 3: \n",
    "list = np.random.randint(1,100,12)\n",
    "print(\"Randomly generated list:\",list)\n",
    "list_2 = []\n",
    "# 寻找元素里面的偶数\n",
    "for i in list:\n",
    "    if(i%2==0):\n",
    "        list_2.append(i)\n",
    "list_2"
   ]
  },
  {
   "cell_type": "markdown",
   "metadata": {},
   "source": [
    "### Question 4: \n",
    "\n",
    "Write a python program to check if a substring is present in a given string.\n",
    "\n",
    "Expected Output:\n",
    "```\n",
    "Enter string: Hello world\n",
    "Enter word: world\n",
    "Substring in string!\n",
    "```"
   ]
  },
  {
   "cell_type": "code",
   "execution_count": 23,
   "metadata": {},
   "outputs": [
    {
     "name": "stdout",
     "output_type": "stream",
     "text": [
      "Substring in string!\n"
     ]
    }
   ],
   "source": [
    "# Solution 4: \n",
    "\n",
    "str = \"Hello world\"\n",
    "if(str.index(\"world\")):\n",
    "    print(\"Substring in string!\")\n",
    "else:\n",
    "    print(\"Substring not in string!\")"
   ]
  },
  {
   "cell_type": "markdown",
   "metadata": {},
   "source": [
    "### Question 5: \n",
    "\n",
    "Write a python program that asks the user last 2 digit of (your) student number and generates Fibonacci series.\n",
    "\n",
    "Expected Output:\n",
    "```\n",
    "How many numbers that generates?: 12\n",
    "Fibonacci series:\n",
    " [1, 1, 2, 3, 5, 8, 13, 21, 34, 55, 89, 144]\n",
    "```"
   ]
  },
  {
   "cell_type": "code",
   "execution_count": null,
   "metadata": {},
   "outputs": [],
   "source": [
    "# Solution 5: \n",
    "print('What are the last two digits of your student number?')\n",
    "\n",
    "num = int(input(\"How many numbers that generates?:\"))\n",
    "\n",
    "\n",
    "n1 = 1\n",
    "n2 = 1\n",
    "count = 2\n",
    "lists = []\n",
    "\n",
    "if num <= 0:\n",
    "    print(\"How many numbers that generates?:\")\n",
    "elif num == 1:\n",
    "    print(\"Fibonacci series:\")\n",
    "    print(n1)\n",
    "else:\n",
    "    print(\"Fibonacci series:\")\n",
    "    lists.append(n1)\n",
    "    lists.append(n2)\n",
    "    while count < num:\n",
    "        nth = n1 + n2\n",
    "        lists.append(nth)\n",
    "       \n",
    "        n1 = n2\n",
    "        n2 = nth\n",
    "        count += 1\n",
    "    print(lists)\n",
    "\n"
   ]
  },
  {
   "cell_type": "markdown",
   "metadata": {},
   "source": [
    "### Question 6: \n",
    "\n",
    "Write a python program using function that generates a new list that contains all the elements of the first list and removing all the duplicates.\n",
    "\n",
    "Expected Output:\n",
    "```\n",
    "List:  [1, 2, 3, 4, 3, 2, 1]\n",
    "Result List using loop:  [1, 2, 3, 4]\n",
    "Result List using sets:  [1, 2, 3, 4]\n",
    "```\n",
    "\n",
    "For extra points:\n",
    "1. Generate the result using two different functions using:\n",
    "    - one using a loop and constructing a list\n",
    "    - sets"
   ]
  },
  {
   "cell_type": "code",
   "execution_count": null,
   "metadata": {},
   "outputs": [],
   "source": [
    "# Solution 6: \n",
    "List=[1, 2, 3, 4, 3, 2, 1]\n",
    "loop=[]\n",
    "for i in List:\n",
    "    if i not in loop:\n",
    "        loop.append(i)\n",
    "print(\"Result List using loop: %s\"%loop)\n",
    "\n",
    "def func1(one_list):\n",
    "    return list(set(one_list))\n",
    "print('Result List using sets:',func1(List))\n"
   ]
  },
  {
   "cell_type": "markdown",
   "metadata": {},
   "source": [
    "### Question 7: \n",
    "\n",
    "Write a python program using functions that asks the user for a string containing multiple words and print back to the user the same string, except with the words in reverse order.\n",
    "\n",
    "Expected Output:\n",
    "```\n",
    "Please enter a sentence: My name is Milaan\n",
    "The reverse sentence is: Milaan is name My\n",
    "```"
   ]
  },
  {
   "cell_type": "code",
   "execution_count": null,
   "metadata": {},
   "outputs": [],
   "source": [
    "# Solution 7: \n",
    "str1 = str(input(\"Please enter a sentence:\"))   \n",
    "for i in str1:           \n",
    "    if not i.isalpha():     \n",
    "        str1  = str1.replace(i,' ')\n",
    "\n",
    "str1 = str1.split()   \n",
    "b = str1[::-1]         \n",
    "print(\"The reverse sentence is:\"+' '.join(b))     \n",
    "\n"
   ]
  },
  {
   "cell_type": "markdown",
   "metadata": {},
   "source": [
    "### Question 8: \n",
    "\n",
    "Write a python program using function that encrypts a given input with these steps:\n",
    "\n",
    "Input: \"apple\"\n",
    "\n",
    "* Step 1: Reverse the input: \"elppa\"\n",
    "* Step 2: Replace all vowels using the following chart:\n",
    "\n",
    "```python\n",
    "a => 0\n",
    "e => 1\n",
    "i => 2\n",
    "o => 2\n",
    "u => 3\n",
    "# 1lpp0\n",
    "```\n",
    "\n",
    "* Step 3: Add \"aca\" to the end of the word: \"1lpp0aca\"\n",
    "\n",
    "Expected Output:\n",
    "```\n",
    "Word:  apple\n",
    "Encrypted word: 1lpp0aca\n",
    "```\n",
    "\n",
    "More Examples:\n",
    "```\n",
    "encrypt(\"banana\") ➞ \"0n0n0baca\"\n",
    "encrypt(\"karaca\") ➞ \"0c0r0kaca\"\n",
    "encrypt(\"burak\") ➞ \"k0r3baca\"\n",
    "encrypt(\"alpaca\") ➞ \"0c0pl0aca\"\n",
    "```"
   ]
  },
  {
   "cell_type": "code",
   "execution_count": null,
   "metadata": {},
   "outputs": [],
   "source": [
    "# Solution 8: \n",
    "a=input(\"请输入原文\")\n",
    "d=a[::-1]\n",
    "d=d.replace('a','0')\n",
    "d=d.replace('e','1')\n",
    "d=d.replace('i','2')\n",
    "d=d.replace('o','2')\n",
    "d=d.replace('u','3')\n",
    "d+=\"aca\"\n",
    "print(d)\n"
   ]
  },
  {
   "cell_type": "markdown",
   "metadata": {},
   "source": [
    "### Question 9: \n",
    "\n",
    "Write a python program using function that takes a number num and returns its length.\n",
    "\n",
    "Expected Output:\n",
    "```\n",
    "Enter number: 963969\n",
    "Total digits in given number:  6\n",
    "```"
   ]
  },
  {
   "cell_type": "code",
   "execution_count": null,
   "metadata": {},
   "outputs": [],
   "source": [
    "# Solution 9: \n",
    "str1 = input('Enter number:')\n",
    "len_str1 = len(str1)\n",
    "print('Total digits in given number:%s'%len_str1)\n",
    "\n"
   ]
  },
  {
   "cell_type": "markdown",
   "metadata": {},
   "source": [
    "### Question 10: \n",
    "\n",
    "Write a python program using function that takes a string and returns the number (count) of vowels contained within it.\n",
    "\n",
    "Expected Output:\n",
    "```\n",
    "Enter string: Celebration\n",
    "Total vowels in the string: 5\n",
    "Identified vowels are:  ['e', 'e', 'a', 'i', 'o']\n",
    "```\n",
    "\n",
    "More examples:\n",
    "```\n",
    "count_vowels(\"Palm\") ➞ 1\n",
    "count_vowels(\"Prediction\") ➞ 4\n",
    "```"
   ]
  },
  {
   "cell_type": "code",
   "execution_count": null,
   "metadata": {},
   "outputs": [],
   "source": [
    "# Solution 10: \n",
    "str = input('Enter string:')\n",
    "list=[]\n",
    "\n",
    "count = 0\n",
    " \n",
    "\n",
    "for i in str: \n",
    "    if( i=='A' or i=='a' or i=='E' or i=='e' or i=='I' or i=='i' or i=='O' or i=='o' or i=='U' or i=='u'):\n",
    "        count += 1\n",
    "        list.append(i)\n",
    "\n",
    "\n",
    "print(\"Total vowels in the string: \", count)\n",
    "print('Identified vowels are:',list)\n"
   ]
  },
  {
   "cell_type": "markdown",
   "metadata": {},
   "source": [
    "### Question 11:\n",
    "\n",
    "Write a python program to draw pattern as below:\n",
    "\n",
    "Expected Output:\n",
    "```\n",
    "--- --- --- \n",
    "|   |   |   |\n",
    " --- --- --- \n",
    "|   |   |   |\n",
    " --- --- --- \n",
    "|   |   |   |\n",
    " --- --- --- \n",
    "```\n",
    "\n",
    "For extra point:\n",
    "1. Generate solution by asking the user what size game board they want to draw, and draw it for them to the screen using Python’s print statement.\n",
    "\n",
    "Expected Output:\n",
    "```\n",
    "Enter the size of board you want to draw: 4\n",
    " --- --- --- ---\n",
    "|   |   |   |   |   \n",
    " --- --- --- ---\n",
    "|   |   |   |   |   \n",
    " --- --- --- ---\n",
    "|   |   |   |   |   \n",
    " --- --- --- ---\n",
    "|   |   |   |   |   \n",
    " --- --- --- ---\n",
    "```"
   ]
  },
  {
   "cell_type": "code",
   "execution_count": null,
   "metadata": {},
   "outputs": [],
   "source": [
    "# Solution 11: \n",
    "n=int(input(\"Enter the size of board you want to draw:\"))\n",
    "format_=\"\"\n",
    "for i in range(n+1):\n",
    "    format_+=\"|   \"\n",
    "for i in range(n):\n",
    "    print(\" --- --- --- ---\")\n",
    "    print(format_)\n",
    "print(\" --- --- --- ---\")\n",
    "\n"
   ]
  },
  {
   "cell_type": "markdown",
   "metadata": {},
   "source": [
    "### Question 12: \n",
    "\n",
    "Write a python program to ask user for a string and then perform following operations:\n",
    "1. Calculate the num of digits \n",
    "2. Calculate the num of characters \n",
    "3. Calculate the num of vowels\n",
    "4. Calculate the num of lowercase letters\n",
    "5. replace ' ' with '_' in the string\n",
    "6. Print and Store the ouput to 'output.txt' file.\n",
    "\n",
    "Expected Output:\n",
    "```\n",
    "Enter string: Hello World 123\n",
    "Output printed in'output.txt'\n",
    "```\n",
    "\n",
    "Expected Output in output.txt:\n",
    "```\n",
    "The entered string is: Hello World 123\n",
    "The number of digits is: 3\n",
    "The number of characters is: 15\n",
    "The number of vowels is: 3\n",
    "The number of lowercase letters is: 8\n",
    "The modified string is: Hello_World_123\n",
    "```"
   ]
  },
  {
   "cell_type": "code",
   "execution_count": null,
   "metadata": {},
   "outputs": [],
   "source": [
    "# Solution 12: \n",
    "digits = 0           # 数字计数器计数器  默认为0个\n",
    "characters = 0        # 字符计数器  默认为0(字符包含空格)\n",
    "vowels = 0            # 元音字符计算\n",
    "lowercase_letters = 0        # 小写字母计数器  默认为0\n",
    "new_string = \"\"\n",
    "string = str(input(\"The entered string is:\"))\n",
    "# new_string = string.replace('','_')\n",
    "for i in string:\n",
    "    if i == ' ':\n",
    "        i = '_'\n",
    "    new_string += i\n",
    "\n",
    "with open(\"output.txt\", 'w') as f:\n",
    "    f.write(string)  #文件的写操作\n",
    "for i in string:\n",
    "    if i.isdigit():             # 如果遇到数字\n",
    "        digits  += 1\n",
    "    elif ((i == \"a\") or (i == \"e\") or (i == \"i\") or (i == \"o\") or (i == \"u\") or (i == \"A\") or (i == \"E\") or (i == \"I\") or (i == \"O\") or (i == \"U\")):\n",
    "        vowels += 1\n",
    "    elif ord(i) in range(97, 123):          # 如果遇到小写字母\n",
    "        lowercase_letters += 1\n",
    "    characters += 1\n",
    "\n",
    "print(\"The entered string is: %s\" %(string))\n",
    "print(\"The number of digits is: %d\" %(digits))\n",
    "print(\"The number of characters is: %d\" %(characters))\n",
    "print(\"The number of vowels is: %d\" %(vowels))\n",
    "print(\"The number of lowercase letters is: %d\" %(lowercase_letters))\n",
    "print(\"The modified string is: %s\" %(new_string))\n",
    "\n"
   ]
  },
  {
   "cell_type": "markdown",
   "metadata": {},
   "source": [
    "### Question 13: \n",
    "\n",
    "Write a python program using function that takes as input three variables from user, and returns the largest of the three. Do this without using the Python **`max()`** function!\n",
    "\n",
    "Expected Output:\n",
    "```\n",
    "Please enter three integers separated by comma: 12, 66, 31\n",
    "The maximum value is: 66 \n",
    "```"
   ]
  },
  {
   "cell_type": "code",
   "execution_count": null,
   "metadata": {},
   "outputs": [],
   "source": [
    "# Solution 13: \n",
    "def zuida(num):\n",
    "    \n",
    "    temp = num.split(',')\n",
    "    a = temp[0]\n",
    "    b = temp[1]\n",
    "    c = temp[2]\n",
    "    max = a \n",
    "\n",
    "    if a < b:\n",
    "        if b > c:\n",
    "            max = b\n",
    "        else:\n",
    "            max = c\n",
    "    print(max)\n",
    "\n",
    "n = input('Please enter three integers separated by comma:')\n",
    "zuida(n)\n"
   ]
  },
  {
   "cell_type": "markdown",
   "metadata": {},
   "source": [
    "### Question 14: \n",
    "\n",
    "Write a python program where user, will have a number in head between 0 and 100. The program will guess a number, and you, the user, will say whether it is too \"high\", too \"low\", or your number. Also, in the end program should print out how many guesses it took to get your number.\n",
    "\n",
    "Expected Output:\n",
    "```\n",
    "Guess a number between 0 and 100 and tell whether high or low when prompted!\n",
    "My guess is 50. Is that high, low or same? low\n",
    "My guess is 75. Is that high, low or same? low\n",
    "My guess is 88. Is that high, low or same? low\n",
    "My guess is 94. Is that high, low or same? low\n",
    "My guess is 97. Is that high, low or same? low\n",
    "My guess is 99. Is that high, low or same? same\n",
    "Congrats to me! I guessed it in 6 tries.\n",
    "```"
   ]
  },
  {
   "cell_type": "code",
   "execution_count": null,
   "metadata": {},
   "outputs": [],
   "source": [
    "# Solution 14: \n",
    "import random\n",
    "csz = random.randint(0, 100)\n",
    "print(\"Guess a number between 0 and 100 and tell whether high or low when prompted!\")\n",
    "count=0\n",
    "while (1):\n",
    "    count+=1\n",
    "    sz = input(\"Enter a number：\")\n",
    "    if sz.isdigit():\n",
    "        sz = int(sz)\n",
    "        \n",
    "        if sz == csz:\n",
    "            print(\"Congrats to me! I guessed it in %s tries.\"%count)\n",
    "            break\n",
    "        elif sz < csz:\n",
    "            print(\"My guess is {0}. Is that high, low or same? low\".format(sz))\n",
    "        else:\n",
    "            print(\"My guess is {0}. Is that high, low or same? high\".format(sz))\n",
    "    else:\n",
    "        print(\"What you entered is not an integer, please re-enter.\")\n",
    "\n"
   ]
  },
  {
   "cell_type": "markdown",
   "metadata": {},
   "source": [
    "### Question 15: \n",
    "\n",
    "Write a python program using function that takes an list(ordered) of numbers (from smallest to largest) and another number. The function decides whether or not the given number is inside the list and returns (then prints) an appropriate boolean.\n",
    "\n",
    ">Hint: Use binary search.\n",
    "\n",
    "Expected Output:\n",
    "```\n",
    "List:  [2, 4, 6, 8, 10]\n",
    "Find  '5': False\n",
    "Find '10': True\n",
    "Find '-1': False\n",
    "Find  '2': True\n",
    "```\n",
    "\n",
    "For extra point:\n",
    "1. Generate list randomly and select he number randomly to be search from the list."
   ]
  },
  {
   "cell_type": "code",
   "execution_count": null,
   "metadata": {},
   "outputs": [],
   "source": [
    "# Solution 15: \n",
    "def aaa(num):\n",
    "    \n",
    "    num=num.split(',')\n",
    "    list=[]\n",
    "    for i in num:\n",
    "        list.append(i)\n",
    "    print(list)\n",
    "    a=input('Find:')\n",
    "    if a in num:\n",
    "        print('True')\n",
    "    else:\n",
    "        print('False')\n",
    "n=input('List:')\n",
    "aaa(n)\n",
    "\n",
    "\n"
   ]
  },
  {
   "cell_type": "markdown",
   "metadata": {},
   "source": [
    "### Question 16: \n",
    "\n",
    "Write a python program to generate password. Be creative with how you generate passwords - strong passwords have a mix of lowercase letters, uppercase letters, numbers, and symbols. The passwords should be random, generating a new password every time the user asks for a new password. Include your code in a main method.\n",
    "\n",
    "Expected Output:\n",
    "```\n",
    "Please choose strong or weak:\n",
    "strong\n",
    "password: 6|Av.0T^9\n",
    "do you want a new password? y/n\n",
    "n\n",
    "```\n",
    "\n",
    "For extra points:\n",
    "1. Ask the user if they want password to be strong(9 characters) or weak(6 characters)?"
   ]
  },
  {
   "cell_type": "code",
   "execution_count": null,
   "metadata": {},
   "outputs": [],
   "source": [
    "# Solution 16: \n",
    "from random import choice\n",
    "import string\n",
    "\n",
    "all_chs = string.ascii_letters + string.digits\n",
    "\n",
    "def gen_pass(n=8):  #默认是循环8次，也就是生成8位密码\n",
    "    result = ''\n",
    "    for i in range(n):\n",
    "        ch = choice(all_chs)\n",
    "        result +=ch\n",
    "    return result\n",
    "\n",
    "if __name__ == '__main__':\n",
    "    mima=input('Please choose strong or weak:')\n",
    "    if mima == 'strong':\n",
    "        print(gen_pass())\n",
    "        huida=input('do you want a new password? y/n:')\n",
    "        if huida=='y':\n",
    "            print('Password generated successfully')\n",
    "        else:\n",
    "            print('Password generation failed')\n",
    "    else:\n",
    "        print('Password is 0000')\n",
    "\n",
    "\n"
   ]
  },
  {
   "cell_type": "markdown",
   "metadata": {},
   "source": [
    "### Question 17: \n",
    "\n",
    "Write a python program using function that picks a random word from a list of words from the **[dictionary](https://github.com/milaan9/92_Python_Assignments/blob/main/sowpods.txt)**. Each line in the file contains a single word.\n",
    "\n",
    ">Hint: use the Python random library for picking a random word.\n",
    "\n",
    "Expected Output:\n",
    "```\n",
    "Random word: POTENTIATING\n",
    "```"
   ]
  },
  {
   "cell_type": "code",
   "execution_count": null,
   "metadata": {},
   "outputs": [],
   "source": [
    "# Solution 17: \n",
    "import random\n",
    "\n",
    "\n",
    "def cidain():\n",
    "    danci = open('danci.txt', 'r')\n",
    "    ls = danci.readlines()\n",
    "    n = random.randint(0, len(ls))\n",
    "    print(ls[n])\n",
    "\n",
    "\n",
    "cidain()\n",
    "\n"
   ]
  },
  {
   "cell_type": "markdown",
   "metadata": {},
   "source": [
    "### Question 18: \n",
    "\n",
    "Write a python program where a text(.txt) file is given **[nameslist.txt](https://github.com/milaan9/92_Python_Assignments/blob/main/nameslist.txt)** that contains list of a bunch of names, count how many of each name there are in the file, and print out the results to the screen. \n",
    "\n",
    "Expected Output:\n",
    "```\n",
    "{'Darth': 31, 'Luke': 15, 'Leia': 54}\n",
    "```\n",
    "\n",
    "For extra point:\n",
    "1. Instead of using the **[nameslist.txt](https://github.com/milaan9/92_Python_Assignments/blob/main/nameslist.txt)** file from above (or instead of, if you want the challenge), take this **[SUN_Database.txt](https://github.com/milaan9/92_Python_Assignments/blob/main/SUN_Database.txt)** file, and count how many of each “category” of each image there are. This text file is actually a list of files corresponding to the SUN database scene recognition database, and lists the file directory hierarchy for the images. Once you take a look at the first line or two of the file, it will be clear which part represents the scene category.\n",
    "\n",
    "Expected Output:\n",
    "```\n",
    "abbey: 50\n",
    "airplane_cabin: 50\n",
    "airport_terminal: 50\n",
    "alley: 50\n",
    "amphitheater: 50\n",
    "...\n",
    "...\n",
    "...\n",
    "wrestling_ring: 50\n",
    "yard: 50\n",
    "youth_hostel: 50\n",
    "```"
   ]
  },
  {
   "cell_type": "code",
   "execution_count": null,
   "metadata": {},
   "outputs": [],
   "source": [
    "# Solution 18: \n",
    "\n",
    "filename = \"nameslist.txt\"\n",
    "names_in_file = {}\n",
    "\n",
    "with open(filename, 'r') as f:\n",
    "    line = f.readline().strip()\n",
    "    while line:\n",
    "        if line in names_in_file.keys():\n",
    "            names_in_file[line] += 1\n",
    "        else:\n",
    "            names_in_file[line] = 1\n",
    "        line = f.readline().strip()\n",
    "            \n",
    "print(names_in_file)\n",
    "\n",
    "\n",
    "\n",
    "filename = \"Training_01.txt\"\n",
    "categories = {}\n",
    "\n",
    "with open(filename, 'r') as f:\n",
    "    line = f.readline().strip().split(\"/sun_\")\n",
    "    category = line[0][3:]\n",
    "    while len(category)>0:              \n",
    "        if category in categories.keys():\n",
    "            categories[category] += 1\n",
    "        else:\n",
    "            categories[category] = 1\n",
    "        line = f.readline().strip().split(\"/sun_\")\n",
    "        category = line[0][3:]\n",
    "            \n",
    "print(categories)\n"
   ]
  },
  {
   "cell_type": "markdown",
   "metadata": {},
   "source": [
    "### Question 19: \n",
    "\n",
    "Write a python program where two .txt files are given that have lists of numbers in them, find the numbers that are overlapping. One '**[primenumbers1_1000.txt](https://github.com/milaan9/92_Python_Assignments/blob/main/primenumbers1_1000.txt)**' file has a list of all prime numbers under 1000, and the other '**[happynumbers1_1000.txt](https://github.com/milaan9/92_Python_Assignments/blob/main/happynumbers1_1000.txt)**' file has a list of **[happy numbers](https://en.wikipedia.org/wiki/Happy_number)** up to 1000.\n",
    "\n",
    "Expected Output:\n",
    "```\n",
    "The list of overlapping numbers:\n",
    " [7, 13, 19, 23, 31, 79, 97, 103, 109, 139, 167, 193, 239, 263, 293, 313, 331, 367, 379, 383, 397, 409, 487, 563, 617, 653, 673, 683, 709, 739, 761, 863, 881, 907, 937]\n",
    "```\n",
    "\n",
    "For extra point:\n",
    "1. Generate solution with functions using list comprehensions"
   ]
  },
  {
   "cell_type": "code",
   "execution_count": null,
   "metadata": {},
   "outputs": [],
   "source": [
    "# Solution 19: \n",
    "\n",
    "\n",
    "def read_numbers ( f ):\n",
    "    print(\"Reading file\", f, \"...\", end=\" \")\n",
    "    numbers = []\n",
    "    with open(f, 'r') as f:\n",
    "        for line in f:\n",
    "            numbers += [int(line.strip())]\n",
    "    print(\"done.\")\n",
    "    return numbers\n",
    "\n",
    "def overlapping_elements ( list1, list2 ):\n",
    "    print(\"Finding overlapping elements in these two lists ...\", end=\" \")\n",
    "    result = []\n",
    "    for i in list1:\n",
    "        if i in list2:\n",
    "            result += [i]\n",
    "    print(\"done.\")\n",
    "    return result\n",
    "\n",
    "if __name__==\"__main__\":\n",
    "    prime_numbers = read_numbers(\"primenumbers.txt\")\n",
    "    happy_numbers = read_numbers(\"happynumbers.txt\")\n",
    "    overlapping = overlapping_elements(prime_numbers, happy_numbers)\n",
    "    print(overlapping)\n",
    "    print(\"'One line' solution:\")   \n",
    "    print([n for n in prime_numbers if n in happy_numbers])\n"
   ]
  },
  {
   "cell_type": "markdown",
   "metadata": {},
   "source": [
    "### Question 20: \n",
    "\n",
    "Create a function that takes a string as an argument and returns the Morse code equivalent.\n",
    "\n",
    "For example:\n",
    "```\n",
    "encode_morse(\"HELP ME !\") ➞ \".... . .-.. .--.   -- .   -.-.--\"\n",
    "```\n",
    "\n",
    "Expected Output:\n",
    "```\n",
    "Enter a sentence: I love\n",
    "..   .-.. --- ...- .\n",
    "Enter morse code: .--. -.-- - .... --- -.\n",
    "PYTHON\n",
    "```\n",
    "\n",
    "This dictionary can be used for coding:\n",
    "```\n",
    "char_to_dots = {\n",
    "    'A': '.-',   'B': '-...', 'C': '-.-.', 'D': '-..',  'E': '.',    'F': '..-.',\n",
    "    'G': '--.',  'H': '....', 'I': '..',   'J': '.---', 'K': '-.-',  'L': '.-..',\n",
    "    'M': '--',   'N': '-.',   'O': '---',  'P': '.--.', 'Q': '--.-', 'R': '.-.',\n",
    "    'S': '...',  'T': '-',    'U': '..-',  'V': '...-', 'W': '.--',  'X': '-..-',\n",
    "    'Y': '-.--', 'Z': '--..',  \n",
    "        \n",
    "    '0': '-----', '1': '.----', '2': '..---', '3': '...--', '4': '....-', \n",
    "    '5': '.....', '6': '-....', '7': '--...', '8': '---..', '9': '----.',\n",
    "        \n",
    "    ' ': ' ',      '&': '.-...',  \"'\": '.----.', '@': '.--.-.', ')': '-.--.-', \n",
    "    '(': '-.--.',  ':': '---...', ',': '--..--', '=': '-...-',  '!': '-.-.--', \n",
    "    '.': '.-.-.-', '-': '-....-', '+': '.-.-.', '\"': '.-..-.',  '?': '..--..', \n",
    "    '/': '-..-.'\n",
    "}\n",
    "```"
   ]
  },
  {
   "cell_type": "code",
   "execution_count": 1,
   "metadata": {
    "ExecuteTime": {
     "end_time": "2021-07-13T04:11:36.238254Z",
     "start_time": "2021-07-13T04:11:36.218272Z"
    }
   },
   "outputs": [],
   "source": [
    "# Solution 20: \n",
    "char_to_dots = {\n",
    "  'A': '.-', 'B': '-...', 'C': '-.-.', 'D': '-..', 'E': '.', 'F': '..-.',\n",
    "  'G': '--.', 'H': '....', 'I': '..', 'J': '.---', 'K': '-.-', 'L': '.-..',\n",
    "  'M': '--', 'N': '-.', 'O': '---', 'P': '.--.', 'Q': '--.-', 'R': '.-.',\n",
    "  'S': '...', 'T': '-', 'U': '..-', 'V': '...-', 'W': '.--', 'X': '-..-',\n",
    "  'Y': '-.--', 'Z': '--..', ' ': ' ', '0': '-----',\n",
    "  '1': '.----', '2': '..---', '3': '...--', '4': '....-', '5': '.....',\n",
    "  '6': '-....', '7': '--...', '8': '---..', '9': '----.',\n",
    "  '&': '.-...', \"'\": '.----.', '@': '.--.-.', ')': '-.--.-', '(': '-.--.',\n",
    "  ':': '---...', ',': '--..--', '=': '-...-', '!': '-.-.--', '.': '.-.-.-',\n",
    "  '-': '-....-', '+': '.-.-.', '\"': '.-..-.', '?': '..--..', '/': '-..-.'\n",
    "}\n",
    "\n",
    "def encode_morse(message):\n",
    "  nl = []\n",
    "  global char_to_dots\n",
    "  char_to_dots = {k.lower(): v for k, v in char_to_dots.items()}\n",
    "\n",
    "  for w in message.lower():\n",
    "    for c in w:\n",
    "      if c in char_to_dots:\n",
    "        nl.append(char_to_dots[c])\n",
    "  return ' '.join(nl)\n"
   ]
  }
 ],
 "metadata": {
  "hide_input": false,
  "kernelspec": {
   "display_name": "Python 3",
   "language": "python",
   "name": "python3"
  },
  "language_info": {
   "codemirror_mode": {
    "name": "ipython",
    "version": 3
   },
   "file_extension": ".py",
   "mimetype": "text/x-python",
   "name": "python",
   "nbconvert_exporter": "python",
   "pygments_lexer": "ipython3",
   "version": "3.8.5"
  },
  "toc": {
   "base_numbering": 1,
   "nav_menu": {},
   "number_sections": true,
   "sideBar": true,
   "skip_h1_title": false,
   "title_cell": "Table of Contents",
   "title_sidebar": "Contents",
   "toc_cell": false,
   "toc_position": {},
   "toc_section_display": true,
   "toc_window_display": false
  },
  "varInspector": {
   "cols": {
    "lenName": 16,
    "lenType": 16,
    "lenVar": 40
   },
   "kernels_config": {
    "python": {
     "delete_cmd_postfix": "",
     "delete_cmd_prefix": "del ",
     "library": "var_list.py",
     "varRefreshCmd": "print(var_dic_list())"
    },
    "r": {
     "delete_cmd_postfix": ") ",
     "delete_cmd_prefix": "rm(",
     "library": "var_list.r",
     "varRefreshCmd": "cat(var_dic_list()) "
    }
   },
   "types_to_exclude": [
    "module",
    "function",
    "builtin_function_or_method",
    "instance",
    "_Feature"
   ],
   "window_display": false
  }
 },
 "nbformat": 4,
 "nbformat_minor": 2
}
